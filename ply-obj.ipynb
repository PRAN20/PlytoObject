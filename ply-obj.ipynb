{
 "cells": [
  {
   "cell_type": "code",
   "execution_count": 5,
   "id": "6beb5bc6",
   "metadata": {},
   "outputs": [
    {
     "name": "stdout",
     "output_type": "stream",
     "text": [
      "Collecting plyfile\n",
      "  Downloading plyfile-0.7.4-py3-none-any.whl (39 kB)\n",
      "Requirement already satisfied: numpy>=1.8 in c:\\users\\prachi\\anaconda3\\lib\\site-packages (from plyfile) (1.20.3)\n",
      "Installing collected packages: plyfile\n",
      "Successfully installed plyfile-0.7.4\n"
     ]
    }
   ],
   "source": [
    "!pip install plyfile"
   ]
  },
  {
   "cell_type": "code",
   "execution_count": 6,
   "id": "cf00ea80",
   "metadata": {},
   "outputs": [],
   "source": [
    "import os\n",
    "from os import listdir\n",
    "from os.path import isfile, join\n",
    "from argparse import ArgumentParser\n",
    "from plyfile import PlyData"
   ]
  },
  {
   "cell_type": "code",
   "execution_count": 8,
   "id": "d8fdfbf3",
   "metadata": {},
   "outputs": [],
   "source": [
    "def parse_args():\n",
    "    parser = ArgumentParser()\n",
    "    parser.add_argument('ply_path')\n",
    "    parser.add_argument('--obj_path', default=None, required=False)\n",
    "\n",
    "    args = parser.parse_args()\n",
    "    return args.ply_path, args.obj_path"
   ]
  },
  {
   "cell_type": "code",
   "execution_count": 9,
   "id": "5f8cbe77",
   "metadata": {},
   "outputs": [],
   "source": [
    "def ply_path_to_obj_path(ply_path):\n",
    "    return os.path.splitext(ply_path)[0] + '.obj'"
   ]
  },
  {
   "cell_type": "code",
   "execution_count": 11,
   "id": "d557233d",
   "metadata": {},
   "outputs": [],
   "source": [
    "def convert(ply_path, obj_path=None):\n",
    "\n",
    "    # Converts the given .ply file to an .obj file\n",
    "\n",
    "    obj_path = obj_path or ply_path_to_obj_path(ply_path)\n",
    "    ply = PlyData.read(ply_path)\n",
    "    with open(obj_path, 'w') as f:\n",
    "        f.write(\"# OBJ file\\n\")\n",
    "\n",
    "        verteces = ply['vertex']\n",
    "\n",
    "        for v in verteces:\n",
    "            p = [v['x'], v['y'], v['z']]\n",
    "            if 'red' in v and 'green' in v and 'blue' in v:\n",
    "                c = [v['red'] / 256, v['green'] / 256, v['blue'] / 256]\n",
    "            else:\n",
    "                c = [0, 0, 0]\n",
    "            a = p + c\n",
    "            f.write(\"v %.6f %.6f %.6f %.6f %.6f %.6f \\n\" % tuple(a))\n",
    "\n",
    "        for v in verteces:\n",
    "            if 'nx' in v and 'ny' in v and 'nz' in v:\n",
    "                n = (v['nx'], v['ny'], v['nz'])\n",
    "                f.write(\"vn %.6f %.6f %.6f\\n\" % n)\n",
    "\n",
    "        for v in verteces:\n",
    "            if 's' in v and 't' in v:\n",
    "                t = (v['s'], v['t'])\n",
    "                f.write(\"vt %.6f %.6f\\n\" % t)\n",
    "\n",
    "        if 'face' in ply:\n",
    "            for i in ply['face']['vertex_indices']:\n",
    "                f.write(\"f\")\n",
    "                for j in range(i.size):\n",
    "                    # ii = [ i[j]+1 ]\n",
    "                    ii = [i[j] + 1, i[j] + 1, i[j] + 1]\n",
    "                    # f.write(\" %d\" % tuple(ii) )\n",
    "                    f.write(\" %d/%d/%d\" % tuple(ii))\n",
    "                f.write(\"\\n\")"
   ]
  },
  {
   "cell_type": "code",
   "execution_count": 13,
   "id": "db69650d",
   "metadata": {},
   "outputs": [
    {
     "name": "stdout",
     "output_type": "stream",
     "text": [
      "Converting D:/point_cloud/4/4-1.ply to .obj...\n",
      "Conversion finished successfully. Output path: D:/point_cloud/4/4-1.obj\n"
     ]
    }
   ],
   "source": [
    "# For a Single File\n",
    "\n",
    "def main():\n",
    "    ply_path = \"D:/point_cloud/4/4-1.ply\"\n",
    "    \n",
    "    if \".ply\" in ply_path:\n",
    "        obj_path = ply_path_to_obj_path(ply_path)\n",
    "        print(\"Converting %s to .obj...\" % ply_path)\n",
    "        convert(ply_path, obj_path)\n",
    "        print(\"Conversion finished successfully. Output path: %s\" % obj_path)\n",
    "    else:\n",
    "        if not \"/\" in ply_path:\n",
    "            ply_path = ply_path + \"/\"\n",
    "        files = [f for f in listdir(ply_path) if isfile(join(ply_path, f))]\n",
    "        for f in files:\n",
    "            if \".ply\" in f:\n",
    "                print(\"Converting %s to .obj...\" % f)\n",
    "                f = ply_path + f\n",
    "                obj_path = ply_path_to_obj_path(f)\n",
    "                convert(f, obj_path)\n",
    "                print(\"Conversion finished successfully. Output path: %s\" % obj_path)\n",
    "\n",
    "if __name__ == '__main__':\n",
    "    main()"
   ]
  },
  {
   "cell_type": "code",
   "execution_count": 19,
   "id": "e9326479",
   "metadata": {},
   "outputs": [
    {
     "name": "stdout",
     "output_type": "stream",
     "text": [
      "Converting D:/point_cloud/1/1-1.ply to .obj...\n",
      "Conversion finished successfully. Output path: D:/point_cloud/1/1-1.obj\n",
      "Converting D:/point_cloud/1/1-10.ply to .obj...\n"
     ]
    },
    {
     "ename": "KeyboardInterrupt",
     "evalue": "",
     "output_type": "error",
     "traceback": [
      "\u001b[1;31m---------------------------------------------------------------------------\u001b[0m",
      "\u001b[1;31mKeyboardInterrupt\u001b[0m                         Traceback (most recent call last)",
      "\u001b[1;32m~\\AppData\\Local\\Temp/ipykernel_1488/1346254878.py\u001b[0m in \u001b[0;36m<module>\u001b[1;34m\u001b[0m\n\u001b[0;32m     18\u001b[0m \u001b[1;33m\u001b[0m\u001b[0m\n\u001b[0;32m     19\u001b[0m \u001b[1;32mif\u001b[0m \u001b[0m__name__\u001b[0m \u001b[1;33m==\u001b[0m \u001b[1;34m'__main__'\u001b[0m\u001b[1;33m:\u001b[0m\u001b[1;33m\u001b[0m\u001b[1;33m\u001b[0m\u001b[0m\n\u001b[1;32m---> 20\u001b[1;33m     \u001b[0mmain\u001b[0m\u001b[1;33m(\u001b[0m\u001b[1;33m)\u001b[0m\u001b[1;33m\u001b[0m\u001b[1;33m\u001b[0m\u001b[0m\n\u001b[0m",
      "\u001b[1;32m~\\AppData\\Local\\Temp/ipykernel_1488/1346254878.py\u001b[0m in \u001b[0;36mmain\u001b[1;34m()\u001b[0m\n\u001b[0;32m     14\u001b[0m                 \u001b[1;31m#obj_path = out_path + \"/\" + files + \"/\"\u001b[0m\u001b[1;33m\u001b[0m\u001b[1;33m\u001b[0m\u001b[0m\n\u001b[0;32m     15\u001b[0m                 \u001b[0mprint\u001b[0m\u001b[1;33m(\u001b[0m\u001b[1;34m\"Converting %s to .obj...\"\u001b[0m \u001b[1;33m%\u001b[0m \u001b[0mply_path\u001b[0m\u001b[1;33m)\u001b[0m\u001b[1;33m\u001b[0m\u001b[1;33m\u001b[0m\u001b[0m\n\u001b[1;32m---> 16\u001b[1;33m                 \u001b[0mconvert\u001b[0m\u001b[1;33m(\u001b[0m\u001b[0mply_path\u001b[0m\u001b[1;33m,\u001b[0m \u001b[0mobj_path\u001b[0m\u001b[1;33m)\u001b[0m\u001b[1;33m\u001b[0m\u001b[1;33m\u001b[0m\u001b[0m\n\u001b[0m\u001b[0;32m     17\u001b[0m                 \u001b[0mprint\u001b[0m\u001b[1;33m(\u001b[0m\u001b[1;34m\"Conversion finished successfully. Output path: %s\"\u001b[0m \u001b[1;33m%\u001b[0m \u001b[0mobj_path\u001b[0m\u001b[1;33m)\u001b[0m\u001b[1;33m\u001b[0m\u001b[1;33m\u001b[0m\u001b[0m\n\u001b[0;32m     18\u001b[0m \u001b[1;33m\u001b[0m\u001b[0m\n",
      "\u001b[1;32m~\\AppData\\Local\\Temp/ipykernel_1488/368192629.py\u001b[0m in \u001b[0;36mconvert\u001b[1;34m(ply_path, obj_path)\u001b[0m\n\u001b[0;32m     17\u001b[0m                 \u001b[0mc\u001b[0m \u001b[1;33m=\u001b[0m \u001b[1;33m[\u001b[0m\u001b[1;36m0\u001b[0m\u001b[1;33m,\u001b[0m \u001b[1;36m0\u001b[0m\u001b[1;33m,\u001b[0m \u001b[1;36m0\u001b[0m\u001b[1;33m]\u001b[0m\u001b[1;33m\u001b[0m\u001b[1;33m\u001b[0m\u001b[0m\n\u001b[0;32m     18\u001b[0m             \u001b[0ma\u001b[0m \u001b[1;33m=\u001b[0m \u001b[0mp\u001b[0m \u001b[1;33m+\u001b[0m \u001b[0mc\u001b[0m\u001b[1;33m\u001b[0m\u001b[1;33m\u001b[0m\u001b[0m\n\u001b[1;32m---> 19\u001b[1;33m             \u001b[0mf\u001b[0m\u001b[1;33m.\u001b[0m\u001b[0mwrite\u001b[0m\u001b[1;33m(\u001b[0m\u001b[1;34m\"v %.6f %.6f %.6f %.6f %.6f %.6f \\n\"\u001b[0m \u001b[1;33m%\u001b[0m \u001b[0mtuple\u001b[0m\u001b[1;33m(\u001b[0m\u001b[0ma\u001b[0m\u001b[1;33m)\u001b[0m\u001b[1;33m)\u001b[0m\u001b[1;33m\u001b[0m\u001b[1;33m\u001b[0m\u001b[0m\n\u001b[0m\u001b[0;32m     20\u001b[0m \u001b[1;33m\u001b[0m\u001b[0m\n\u001b[0;32m     21\u001b[0m         \u001b[1;32mfor\u001b[0m \u001b[0mv\u001b[0m \u001b[1;32min\u001b[0m \u001b[0mverteces\u001b[0m\u001b[1;33m:\u001b[0m\u001b[1;33m\u001b[0m\u001b[1;33m\u001b[0m\u001b[0m\n",
      "\u001b[1;31mKeyboardInterrupt\u001b[0m: "
     ]
    }
   ],
   "source": [
    "# For the point_cloud File\n",
    "\n",
    "\n",
    "def main():\n",
    "    path = \"D:/point_cloud\"     #Input Path\n",
    "    out_path = \"D:/Obj Files\"   #Output Path\n",
    "    \n",
    "    for files in os.listdir(path):\n",
    "        for content in os.listdir(path + \"/\" + files):\n",
    "            ply_path = path + \"/\" + files + \"/\" + content\n",
    "            if \".ply\" in ply_path:\n",
    "                obj_path = ply_path_to_obj_path(ply_path)\n",
    "                #os.mkdir(\"D:/Obj Files/files\")\n",
    "                #obj_path = out_path + \"/\" + files + \"/\"\n",
    "                print(\"Converting %s to .obj...\" % ply_path)\n",
    "                convert(ply_path, obj_path)\n",
    "                print(\"Conversion finished successfully. Output path: %s\" % obj_path)\n",
    "            \n",
    "if __name__ == '__main__':\n",
    "    main()\n",
    "    \n",
    "# Execution Killed"
   ]
  },
  {
   "cell_type": "code",
   "execution_count": null,
   "id": "d35aaad2",
   "metadata": {},
   "outputs": [],
   "source": []
  }
 ],
 "metadata": {
  "kernelspec": {
   "display_name": "Python 3 (ipykernel)",
   "language": "python",
   "name": "python3"
  },
  "language_info": {
   "codemirror_mode": {
    "name": "ipython",
    "version": 3
   },
   "file_extension": ".py",
   "mimetype": "text/x-python",
   "name": "python",
   "nbconvert_exporter": "python",
   "pygments_lexer": "ipython3",
   "version": "3.9.7"
  }
 },
 "nbformat": 4,
 "nbformat_minor": 5
}
